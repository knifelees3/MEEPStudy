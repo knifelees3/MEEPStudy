{
 "cells": [
  {
   "cell_type": "markdown",
   "source": [
    "## Dipole's Emission near Waveguide\n",
    "Zhaohua Tian\n",
    "2021 07 10"
   ],
   "metadata": {}
  },
  {
   "cell_type": "code",
   "execution_count": null,
   "source": [],
   "outputs": [],
   "metadata": {}
  }
 ],
 "metadata": {
  "orig_nbformat": 4,
  "language_info": {
   "name": "python"
  }
 },
 "nbformat": 4,
 "nbformat_minor": 2
}