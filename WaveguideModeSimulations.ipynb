{
 "cells": [
  {
   "cell_type": "markdown",
   "source": [
    "# Simualting the waveguide mode using meep\n",
    "\n",
    "Zhaohua Tian\n",
    "2021 07 10\n",
    "\n",
    "## Introduction\n",
    "In this notebook, I will try two different ways to simualte the waveguide mode and its mode profiles and waveg vectors etc."
   ],
   "metadata": {}
  },
  {
   "cell_type": "markdown",
   "source": [],
   "metadata": {}
  },
  {
   "cell_type": "markdown",
   "source": [
    "## The MPB Method"
   ],
   "metadata": {}
  },
  {
   "cell_type": "code",
   "execution_count": null,
   "source": [
    "import meep as mp\n",
    "from meep import mpb\n",
    "import numpy as np\n",
    "from matplotlib import pyplot as plt\n",
    "\n",
    "# Then the wavelength\n",
    "omega = 1/0.78\n",
    "material_SiN=mp.Medium(index=2.02)\n",
    "width_guide=0.65\n",
    "height_guide=0.25\n",
    "resolution=200\n",
    "size_cal_y=2\n",
    "size_cal_z=2\n",
    "\n",
    "geometry = [mp.Block(material=material_SiN, \n",
    "                     size=mp.Vector3(mp.inf,width_guide, height_guide),\n",
    "                     center=mp.Vector3(0, 0, height_guide/2))]\n",
    "geometry_lattice = mp.Lattice(size=mp.Vector3(0, size_cal_y, size_cal_z))\n",
    "\n",
    "num_modes = 4\n",
    "\n",
    "ms = mpb.ModeSolver(\n",
    "    geometry_lattice = geometry_lattice,\n",
    "    geometry         = geometry,\n",
    "    resolution       = resolution,\n",
    "    num_bands        = num_modes\n",
    ")\n",
    "\n",
    "E = []\n",
    "store_fields = lambda ms_temp, mode: E.append(ms_temp.get_efield(which_band=mode,bloch_phase=False))    \n",
    "\n",
    "k = ms.find_k(\n",
    "    mp.NO_PARITY,\n",
    "    omega, # omega\n",
    "    1, # band_min\n",
    "    num_modes, # band_max\n",
    "    mp.Vector3(1,0,0), # korig_and_kdir\n",
    "    1e-4, # tol\n",
    "    omega * 2, # kmag_guess\n",
    "    omega * 0.1, # kmag_min\n",
    "    omega * 2, # kmag_max\n",
    "    store_fields, # band_funcs\n",
    ")\n",
    "neff=k[0]/omega\n",
    "eps = ms.get_epsilon()\n",
    "eps_arr=np.transpose(np.array(eps))"
   ],
   "outputs": [],
   "metadata": {}
  },
  {
   "cell_type": "code",
   "execution_count": null,
   "source": [
    "# %%\n",
    "x_list=np.linspace(-size_cal_y/2,size_cal_y/2,resolution*2)\n",
    "y_list=np.linspace(-size_cal_z/2,size_cal_z/2,resolution*2)\n",
    "x_grid,y_grid=np.meshgrid(x_list,y_list)\n",
    "\n",
    "plt.figure(figsize=(12,4))\n",
    "# Plot the E fields\n",
    "for mode in range(num_modes):\n",
    "    Ex=np.squeeze(E[mode][:,:,0,1]).transpose()\n",
    "    print('Current band: {}'.format(mode+1))\n",
    "    plt.subplot(1,num_modes,1+mode)\n",
    "    plt.pcolormesh(x_grid,y_grid,eps.transpose(), cmap='binary')\n",
    "    plt.pcolormesh(x_grid,y_grid,np.abs(Ex), cmap='jet', alpha=0.9)\n",
    "    plt.axis('off')\n",
    "    st_title='Ex of mode '+str(mode+1)\n",
    "    plt.title(st_title)\n",
    "    plt.tight_layout()\n",
    "    plt.savefig('SimulatedField.png')"
   ],
   "outputs": [],
   "metadata": {}
  },
  {
   "cell_type": "markdown",
   "source": [
    "and the effective index is as follows"
   ],
   "metadata": {}
  },
  {
   "cell_type": "code",
   "execution_count": null,
   "source": [
    "neff=np.array(k)/omega\n",
    "print(neff)"
   ],
   "outputs": [],
   "metadata": {}
  },
  {
   "cell_type": "markdown",
   "source": [
    "## The meep method\n",
    "we can also simualte the mode profile in meep by creating a simulation project. The geometery can be the same"
   ],
   "metadata": {}
  },
  {
   "cell_type": "code",
   "execution_count": null,
   "source": [
    "import meep as mp\n",
    "from meep import mpb\n",
    "import numpy as np\n",
    "from matplotlib import pyplot as plt\n",
    "\n",
    "# Then the wavelength\n",
    "omega = 1/0.78\n",
    "material_SiN=mp.Medium(index=2.02)\n",
    "width_guide=0.65\n",
    "height_guide=0.25\n",
    "resolution=200\n",
    "size_cal_y=2\n",
    "size_cal_z=2\n",
    "\n",
    "geometry = [mp.Block(material=material_SiN, \n",
    "                     size=mp.Vector3(mp.inf,width_guide, height_guide),\n",
    "                     center=mp.Vector3(0, 0, height_guide/2))]\n",
    "geometry_lattice = mp.Lattice(size=mp.Vector3(0, size_cal_y, size_cal_z))\n",
    "\n",
    "num_modes = 4\n",
    "\n",
    "dpml = 1\n",
    "pml_layers = [mp.PML(dpml)]\n",
    "sim = mp.Simulation(cell_size=mp.Vector3(0,size_cal_y,size_cal_z),\n",
    "                    resolution=resolution,\n",
    "                    geometry=geometry,\n",
    "                    boundary_layers=pml_layers,)\n",
    "\n",
    "sim.init_sim()\n",
    "where = mp.Volume(center=mp.Vector3(), size=mp.Vector3(0,2,2))\n",
    "direction = mp.X\n",
    "band_num = 4\n",
    "kpoint = mp.Vector3(1,0,0)\n",
    "ed = sim.get_eigenmode(omega, direction, where, band_num, kpoint, eig_vol=None, match_frequency=True, \n",
    "parity=mp.NO_PARITY, resolution=resolution, eigensolver_tol=1e-12)"
   ],
   "outputs": [],
   "metadata": {}
  },
  {
   "cell_type": "markdown",
   "source": [],
   "metadata": {}
  },
  {
   "cell_type": "markdown",
   "source": [
    "Be careful that we need extract the field properties via some methods."
   ],
   "metadata": {}
  },
  {
   "cell_type": "code",
   "execution_count": null,
   "source": [
    "print(ed.amplitude(mp.vector3(),1))"
   ],
   "outputs": [],
   "metadata": {}
  },
  {
   "cell_type": "markdown",
   "source": [],
   "metadata": {}
  },
  {
   "cell_type": "markdown",
   "source": [],
   "metadata": {}
  }
 ],
 "metadata": {
  "orig_nbformat": 4,
  "language_info": {
   "name": "python"
  }
 },
 "nbformat": 4,
 "nbformat_minor": 2
}